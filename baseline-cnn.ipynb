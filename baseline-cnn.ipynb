{
 "cells": [
  {
   "cell_type": "code",
   "execution_count": 1,
   "id": "22842642",
   "metadata": {
    "_cell_guid": "b1076dfc-b9ad-4769-8c92-a6c4dae69d19",
    "_uuid": "8f2839f25d086af736a60e9eeb907d3b93b6e0e5",
    "execution": {
     "iopub.execute_input": "2022-02-08T19:19:52.742951Z",
     "iopub.status.busy": "2022-02-08T19:19:52.741716Z",
     "iopub.status.idle": "2022-02-08T19:20:03.613389Z",
     "shell.execute_reply": "2022-02-08T19:20:03.612418Z",
     "shell.execute_reply.started": "2022-02-08T18:24:38.087867Z"
    },
    "papermill": {
     "duration": 10.907051,
     "end_time": "2022-02-08T19:20:03.613577",
     "exception": false,
     "start_time": "2022-02-08T19:19:52.706526",
     "status": "completed"
    },
    "tags": []
   },
   "outputs": [],
   "source": [
    "import numpy as np # linear algebra\n",
    "import pandas as pd # data processing, CSV file I/O (e.g. pd.read_csv)\n",
    "import matplotlib.pyplot as plt\n",
    "from sklearn.model_selection import train_test_split\n",
    "import tensorflow as tf\n",
    "import keras\n",
    "\n",
    "df = pd.read_csv('../input/feedback-prize-2021/train.csv')\n",
    "df[['discourse_id', 'discourse_start', 'discourse_end']] = df[['discourse_id', 'discourse_start', 'discourse_end']].astype(int)\n",
    "\n",
    "sample_submission = pd.read_csv('../input/feedback-prize-2021/sample_submission.csv')"
   ]
  },
  {
   "cell_type": "markdown",
   "id": "3df9b6e7",
   "metadata": {
    "papermill": {
     "duration": 0.02993,
     "end_time": "2022-02-08T19:20:03.675307",
     "exception": false,
     "start_time": "2022-02-08T19:20:03.645377",
     "status": "completed"
    },
    "tags": []
   },
   "source": [
    "# Introducao"
   ]
  },
  {
   "cell_type": "markdown",
   "id": "e439736c",
   "metadata": {
    "papermill": {
     "duration": 0.030258,
     "end_time": "2022-02-08T19:20:03.737705",
     "exception": false,
     "start_time": "2022-02-08T19:20:03.707447",
     "status": "completed"
    },
    "tags": []
   },
   "source": [
    "Meu objetivo com este notebook era dar um \"pontape\" inicial na competicao. Queria ter uma submissao antes de comecar a explorar tecnicas de NLP, entao resolvi criar um modelo baseado em CNN que a gente estudou no treinamento."
   ]
  },
  {
   "cell_type": "markdown",
   "id": "df2f4d5c",
   "metadata": {
    "papermill": {
     "duration": 0.030658,
     "end_time": "2022-02-08T19:20:03.798141",
     "exception": false,
     "start_time": "2022-02-08T19:20:03.767483",
     "status": "completed"
    },
    "tags": []
   },
   "source": [
    "# Exploratory Data Analysis (EDA)"
   ]
  },
  {
   "cell_type": "code",
   "execution_count": 2,
   "id": "d63daba8",
   "metadata": {
    "execution": {
     "iopub.execute_input": "2022-02-08T19:20:03.960030Z",
     "iopub.status.busy": "2022-02-08T19:20:03.959167Z",
     "iopub.status.idle": "2022-02-08T19:20:04.089980Z",
     "shell.execute_reply": "2022-02-08T19:20:04.089292Z",
     "shell.execute_reply.started": "2022-02-08T18:26:59.716239Z"
    },
    "papermill": {
     "duration": 0.261728,
     "end_time": "2022-02-08T19:20:04.090186",
     "exception": false,
     "start_time": "2022-02-08T19:20:03.828458",
     "status": "completed"
    },
    "tags": []
   },
   "outputs": [
    {
     "name": "stdout",
     "output_type": "stream",
     "text": [
      "<class 'pandas.core.frame.DataFrame'>\n",
      "RangeIndex: 144293 entries, 0 to 144292\n",
      "Data columns (total 8 columns):\n",
      " #   Column              Non-Null Count   Dtype \n",
      "---  ------              --------------   ----- \n",
      " 0   id                  144293 non-null  object\n",
      " 1   discourse_id        144293 non-null  int64 \n",
      " 2   discourse_start     144293 non-null  int64 \n",
      " 3   discourse_end       144293 non-null  int64 \n",
      " 4   discourse_text      144293 non-null  object\n",
      " 5   discourse_type      144293 non-null  object\n",
      " 6   discourse_type_num  144293 non-null  object\n",
      " 7   predictionstring    144293 non-null  object\n",
      "dtypes: int64(3), object(5)\n",
      "memory usage: 8.8+ MB\n"
     ]
    },
    {
     "data": {
      "text/plain": [
       "id                    0\n",
       "discourse_id          0\n",
       "discourse_start       0\n",
       "discourse_end         0\n",
       "discourse_text        0\n",
       "discourse_type        0\n",
       "discourse_type_num    0\n",
       "predictionstring      0\n",
       "dtype: int64"
      ]
     },
     "execution_count": 2,
     "metadata": {},
     "output_type": "execute_result"
    }
   ],
   "source": [
    "# tipos de dados e quantidade de valores NaN\n",
    "df.info()\n",
    "df.isna().sum()"
   ]
  },
  {
   "cell_type": "code",
   "execution_count": 3,
   "id": "c7500216",
   "metadata": {
    "execution": {
     "iopub.execute_input": "2022-02-08T19:20:04.160318Z",
     "iopub.status.busy": "2022-02-08T19:20:04.159559Z",
     "iopub.status.idle": "2022-02-08T19:20:04.181686Z",
     "shell.execute_reply": "2022-02-08T19:20:04.180961Z",
     "shell.execute_reply.started": "2022-02-08T18:28:22.648537Z"
    },
    "papermill": {
     "duration": 0.060301,
     "end_time": "2022-02-08T19:20:04.181844",
     "exception": false,
     "start_time": "2022-02-08T19:20:04.121543",
     "status": "completed"
    },
    "tags": []
   },
   "outputs": [
    {
     "data": {
      "text/html": [
       "<div>\n",
       "<style scoped>\n",
       "    .dataframe tbody tr th:only-of-type {\n",
       "        vertical-align: middle;\n",
       "    }\n",
       "\n",
       "    .dataframe tbody tr th {\n",
       "        vertical-align: top;\n",
       "    }\n",
       "\n",
       "    .dataframe thead th {\n",
       "        text-align: right;\n",
       "    }\n",
       "</style>\n",
       "<table border=\"1\" class=\"dataframe\">\n",
       "  <thead>\n",
       "    <tr style=\"text-align: right;\">\n",
       "      <th></th>\n",
       "      <th>id</th>\n",
       "      <th>discourse_id</th>\n",
       "      <th>discourse_start</th>\n",
       "      <th>discourse_end</th>\n",
       "      <th>discourse_text</th>\n",
       "      <th>discourse_type</th>\n",
       "      <th>discourse_type_num</th>\n",
       "      <th>predictionstring</th>\n",
       "    </tr>\n",
       "  </thead>\n",
       "  <tbody>\n",
       "    <tr>\n",
       "      <th>0</th>\n",
       "      <td>423A1CA112E2</td>\n",
       "      <td>1622627660524</td>\n",
       "      <td>8</td>\n",
       "      <td>229</td>\n",
       "      <td>Modern humans today are always on their phone....</td>\n",
       "      <td>Lead</td>\n",
       "      <td>Lead 1</td>\n",
       "      <td>1 2 3 4 5 6 7 8 9 10 11 12 13 14 15 16 17 18 1...</td>\n",
       "    </tr>\n",
       "    <tr>\n",
       "      <th>1</th>\n",
       "      <td>423A1CA112E2</td>\n",
       "      <td>1622627653021</td>\n",
       "      <td>230</td>\n",
       "      <td>312</td>\n",
       "      <td>They are some really bad consequences when stu...</td>\n",
       "      <td>Position</td>\n",
       "      <td>Position 1</td>\n",
       "      <td>45 46 47 48 49 50 51 52 53 54 55 56 57 58 59</td>\n",
       "    </tr>\n",
       "    <tr>\n",
       "      <th>2</th>\n",
       "      <td>423A1CA112E2</td>\n",
       "      <td>1622627671020</td>\n",
       "      <td>313</td>\n",
       "      <td>401</td>\n",
       "      <td>Some certain areas in the United States ban ph...</td>\n",
       "      <td>Evidence</td>\n",
       "      <td>Evidence 1</td>\n",
       "      <td>60 61 62 63 64 65 66 67 68 69 70 71 72 73 74 75</td>\n",
       "    </tr>\n",
       "    <tr>\n",
       "      <th>3</th>\n",
       "      <td>423A1CA112E2</td>\n",
       "      <td>1622627696365</td>\n",
       "      <td>402</td>\n",
       "      <td>758</td>\n",
       "      <td>When people have phones, they know about certa...</td>\n",
       "      <td>Evidence</td>\n",
       "      <td>Evidence 2</td>\n",
       "      <td>76 77 78 79 80 81 82 83 84 85 86 87 88 89 90 9...</td>\n",
       "    </tr>\n",
       "    <tr>\n",
       "      <th>4</th>\n",
       "      <td>423A1CA112E2</td>\n",
       "      <td>1622627759780</td>\n",
       "      <td>759</td>\n",
       "      <td>886</td>\n",
       "      <td>Driving is one of the way how to get around. P...</td>\n",
       "      <td>Claim</td>\n",
       "      <td>Claim 1</td>\n",
       "      <td>139 140 141 142 143 144 145 146 147 148 149 15...</td>\n",
       "    </tr>\n",
       "    <tr>\n",
       "      <th>5</th>\n",
       "      <td>423A1CA112E2</td>\n",
       "      <td>1622627780655</td>\n",
       "      <td>887</td>\n",
       "      <td>1150</td>\n",
       "      <td>That's why there's a thing that's called no te...</td>\n",
       "      <td>Evidence</td>\n",
       "      <td>Evidence 3</td>\n",
       "      <td>163 164 165 166 167 168 169 170 171 172 173 17...</td>\n",
       "    </tr>\n",
       "    <tr>\n",
       "      <th>6</th>\n",
       "      <td>423A1CA112E2</td>\n",
       "      <td>1622627811787</td>\n",
       "      <td>1151</td>\n",
       "      <td>1533</td>\n",
       "      <td>Sometimes on the news there is either an accid...</td>\n",
       "      <td>Evidence</td>\n",
       "      <td>Evidence 4</td>\n",
       "      <td>211 212 213 214 215 216 217 218 219 220 221 22...</td>\n",
       "    </tr>\n",
       "    <tr>\n",
       "      <th>7</th>\n",
       "      <td>423A1CA112E2</td>\n",
       "      <td>1622627585180</td>\n",
       "      <td>1534</td>\n",
       "      <td>1602</td>\n",
       "      <td>Phones are fine to use and it's also the best ...</td>\n",
       "      <td>Claim</td>\n",
       "      <td>Claim 2</td>\n",
       "      <td>282 283 284 285 286 287 288 289 290 291 292 29...</td>\n",
       "    </tr>\n",
       "    <tr>\n",
       "      <th>8</th>\n",
       "      <td>423A1CA112E2</td>\n",
       "      <td>1622627895668</td>\n",
       "      <td>1603</td>\n",
       "      <td>1890</td>\n",
       "      <td>If you go through a problem and you can't find...</td>\n",
       "      <td>Evidence</td>\n",
       "      <td>Evidence 5</td>\n",
       "      <td>297 298 299 300 301 302 303 304 305 306 307 30...</td>\n",
       "    </tr>\n",
       "    <tr>\n",
       "      <th>9</th>\n",
       "      <td>423A1CA112E2</td>\n",
       "      <td>1622627628524</td>\n",
       "      <td>1891</td>\n",
       "      <td>2027</td>\n",
       "      <td>The news always updated when people do somethi...</td>\n",
       "      <td>Concluding Statement</td>\n",
       "      <td>Concluding Statement 1</td>\n",
       "      <td>355 356 357 358 359 360 361 362 363 364 365 36...</td>\n",
       "    </tr>\n",
       "    <tr>\n",
       "      <th>10</th>\n",
       "      <td>A8445CABFECE</td>\n",
       "      <td>1622575848614</td>\n",
       "      <td>18</td>\n",
       "      <td>85</td>\n",
       "      <td>Drivers should not be able to use phones while...</td>\n",
       "      <td>Position</td>\n",
       "      <td>Position 1</td>\n",
       "      <td>3 4 5 6 7 8 9 10 11 12 13 14</td>\n",
       "    </tr>\n",
       "    <tr>\n",
       "      <th>11</th>\n",
       "      <td>A8445CABFECE</td>\n",
       "      <td>1622575854436</td>\n",
       "      <td>86</td>\n",
       "      <td>202</td>\n",
       "      <td>Drivers who used their phone while operating a...</td>\n",
       "      <td>Claim</td>\n",
       "      <td>Claim 1</td>\n",
       "      <td>15 16 17 18 19 20 21 22 23 24 25 26 27 28 29 3...</td>\n",
       "    </tr>\n",
       "    <tr>\n",
       "      <th>12</th>\n",
       "      <td>A8445CABFECE</td>\n",
       "      <td>1622575912464</td>\n",
       "      <td>203</td>\n",
       "      <td>1030</td>\n",
       "      <td>According to an article by the Edgar Snyder Fi...</td>\n",
       "      <td>Evidence</td>\n",
       "      <td>Evidence 1</td>\n",
       "      <td>36 37 38 39 40 41 42 43 44 45 46 47 48 49 50 5...</td>\n",
       "    </tr>\n",
       "    <tr>\n",
       "      <th>13</th>\n",
       "      <td>A8445CABFECE</td>\n",
       "      <td>1622575919138</td>\n",
       "      <td>1031</td>\n",
       "      <td>1243</td>\n",
       "      <td>In conclusion, drivers should not able to work...</td>\n",
       "      <td>Concluding Statement</td>\n",
       "      <td>Concluding Statement 1</td>\n",
       "      <td>177 178 179 180 181 182 183 184 185 186 187 18...</td>\n",
       "    </tr>\n",
       "    <tr>\n",
       "      <th>14</th>\n",
       "      <td>6B4F7A0165B9</td>\n",
       "      <td>1622644274071</td>\n",
       "      <td>36</td>\n",
       "      <td>512</td>\n",
       "      <td>The ability to stay connected to people we kno...</td>\n",
       "      <td>Lead</td>\n",
       "      <td>Lead 1</td>\n",
       "      <td>5 6 7 8 9 10 11 12 13 14 15 16 17 18 19 20 21 ...</td>\n",
       "    </tr>\n",
       "    <tr>\n",
       "      <th>15</th>\n",
       "      <td>6B4F7A0165B9</td>\n",
       "      <td>1622644279790</td>\n",
       "      <td>513</td>\n",
       "      <td>593</td>\n",
       "      <td>However, this device is taken to areas that i...</td>\n",
       "      <td>Position</td>\n",
       "      <td>Position 1</td>\n",
       "      <td>92 93 94 95 96 97 98 99 100 101 102 103 104</td>\n",
       "    </tr>\n",
       "    <tr>\n",
       "      <th>16</th>\n",
       "      <td>6B4F7A0165B9</td>\n",
       "      <td>1622644287621</td>\n",
       "      <td>594</td>\n",
       "      <td>726</td>\n",
       "      <td>Within a vehicle capable of traveling upwards ...</td>\n",
       "      <td>Claim</td>\n",
       "      <td>Claim 1</td>\n",
       "      <td>105 106 107 108 109 110 111 112 113 114 115 11...</td>\n",
       "    </tr>\n",
       "    <tr>\n",
       "      <th>17</th>\n",
       "      <td>6B4F7A0165B9</td>\n",
       "      <td>1622644294405</td>\n",
       "      <td>727</td>\n",
       "      <td>1244</td>\n",
       "      <td>The most common of these distractions is a cel...</td>\n",
       "      <td>Evidence</td>\n",
       "      <td>Evidence 1</td>\n",
       "      <td>125 126 127 128 129 130 131 132 133 134 135 13...</td>\n",
       "    </tr>\n",
       "    <tr>\n",
       "      <th>18</th>\n",
       "      <td>6B4F7A0165B9</td>\n",
       "      <td>1622644307290</td>\n",
       "      <td>1245</td>\n",
       "      <td>1439</td>\n",
       "      <td>Conversely people may believe that laws in pre...</td>\n",
       "      <td>Counterclaim</td>\n",
       "      <td>Counterclaim 1</td>\n",
       "      <td>221 222 223 224 225 226 227 228 229 230 231 23...</td>\n",
       "    </tr>\n",
       "    <tr>\n",
       "      <th>19</th>\n",
       "      <td>6B4F7A0165B9</td>\n",
       "      <td>1622644314050</td>\n",
       "      <td>1440</td>\n",
       "      <td>1681</td>\n",
       "      <td>The problem becomes apparent that this is a se...</td>\n",
       "      <td>Rebuttal</td>\n",
       "      <td>Rebuttal 1</td>\n",
       "      <td>254 255 256 257 258 259 260 261 262 263 264 26...</td>\n",
       "    </tr>\n",
       "  </tbody>\n",
       "</table>\n",
       "</div>"
      ],
      "text/plain": [
       "              id   discourse_id  discourse_start  discourse_end  \\\n",
       "0   423A1CA112E2  1622627660524                8            229   \n",
       "1   423A1CA112E2  1622627653021              230            312   \n",
       "2   423A1CA112E2  1622627671020              313            401   \n",
       "3   423A1CA112E2  1622627696365              402            758   \n",
       "4   423A1CA112E2  1622627759780              759            886   \n",
       "5   423A1CA112E2  1622627780655              887           1150   \n",
       "6   423A1CA112E2  1622627811787             1151           1533   \n",
       "7   423A1CA112E2  1622627585180             1534           1602   \n",
       "8   423A1CA112E2  1622627895668             1603           1890   \n",
       "9   423A1CA112E2  1622627628524             1891           2027   \n",
       "10  A8445CABFECE  1622575848614               18             85   \n",
       "11  A8445CABFECE  1622575854436               86            202   \n",
       "12  A8445CABFECE  1622575912464              203           1030   \n",
       "13  A8445CABFECE  1622575919138             1031           1243   \n",
       "14  6B4F7A0165B9  1622644274071               36            512   \n",
       "15  6B4F7A0165B9  1622644279790              513            593   \n",
       "16  6B4F7A0165B9  1622644287621              594            726   \n",
       "17  6B4F7A0165B9  1622644294405              727           1244   \n",
       "18  6B4F7A0165B9  1622644307290             1245           1439   \n",
       "19  6B4F7A0165B9  1622644314050             1440           1681   \n",
       "\n",
       "                                       discourse_text        discourse_type  \\\n",
       "0   Modern humans today are always on their phone....                  Lead   \n",
       "1   They are some really bad consequences when stu...              Position   \n",
       "2   Some certain areas in the United States ban ph...              Evidence   \n",
       "3   When people have phones, they know about certa...              Evidence   \n",
       "4   Driving is one of the way how to get around. P...                 Claim   \n",
       "5   That's why there's a thing that's called no te...              Evidence   \n",
       "6   Sometimes on the news there is either an accid...              Evidence   \n",
       "7   Phones are fine to use and it's also the best ...                 Claim   \n",
       "8   If you go through a problem and you can't find...              Evidence   \n",
       "9   The news always updated when people do somethi...  Concluding Statement   \n",
       "10  Drivers should not be able to use phones while...              Position   \n",
       "11  Drivers who used their phone while operating a...                 Claim   \n",
       "12  According to an article by the Edgar Snyder Fi...              Evidence   \n",
       "13  In conclusion, drivers should not able to work...  Concluding Statement   \n",
       "14  The ability to stay connected to people we kno...                  Lead   \n",
       "15   However, this device is taken to areas that i...              Position   \n",
       "16  Within a vehicle capable of traveling upwards ...                 Claim   \n",
       "17  The most common of these distractions is a cel...              Evidence   \n",
       "18  Conversely people may believe that laws in pre...          Counterclaim   \n",
       "19  The problem becomes apparent that this is a se...              Rebuttal   \n",
       "\n",
       "        discourse_type_num                                   predictionstring  \n",
       "0                   Lead 1  1 2 3 4 5 6 7 8 9 10 11 12 13 14 15 16 17 18 1...  \n",
       "1               Position 1       45 46 47 48 49 50 51 52 53 54 55 56 57 58 59  \n",
       "2               Evidence 1    60 61 62 63 64 65 66 67 68 69 70 71 72 73 74 75  \n",
       "3               Evidence 2  76 77 78 79 80 81 82 83 84 85 86 87 88 89 90 9...  \n",
       "4                  Claim 1  139 140 141 142 143 144 145 146 147 148 149 15...  \n",
       "5               Evidence 3  163 164 165 166 167 168 169 170 171 172 173 17...  \n",
       "6               Evidence 4  211 212 213 214 215 216 217 218 219 220 221 22...  \n",
       "7                  Claim 2  282 283 284 285 286 287 288 289 290 291 292 29...  \n",
       "8               Evidence 5  297 298 299 300 301 302 303 304 305 306 307 30...  \n",
       "9   Concluding Statement 1  355 356 357 358 359 360 361 362 363 364 365 36...  \n",
       "10              Position 1                       3 4 5 6 7 8 9 10 11 12 13 14  \n",
       "11                 Claim 1  15 16 17 18 19 20 21 22 23 24 25 26 27 28 29 3...  \n",
       "12              Evidence 1  36 37 38 39 40 41 42 43 44 45 46 47 48 49 50 5...  \n",
       "13  Concluding Statement 1  177 178 179 180 181 182 183 184 185 186 187 18...  \n",
       "14                  Lead 1  5 6 7 8 9 10 11 12 13 14 15 16 17 18 19 20 21 ...  \n",
       "15              Position 1        92 93 94 95 96 97 98 99 100 101 102 103 104  \n",
       "16                 Claim 1  105 106 107 108 109 110 111 112 113 114 115 11...  \n",
       "17              Evidence 1  125 126 127 128 129 130 131 132 133 134 135 13...  \n",
       "18          Counterclaim 1  221 222 223 224 225 226 227 228 229 230 231 23...  \n",
       "19              Rebuttal 1  254 255 256 257 258 259 260 261 262 263 264 26...  "
      ]
     },
     "execution_count": 3,
     "metadata": {},
     "output_type": "execute_result"
    }
   ],
   "source": [
    "df.head(20)"
   ]
  },
  {
   "cell_type": "markdown",
   "id": "c1c352d0",
   "metadata": {
    "papermill": {
     "duration": 0.031742,
     "end_time": "2022-02-08T19:20:04.245604",
     "exception": false,
     "start_time": "2022-02-08T19:20:04.213862",
     "status": "completed"
    },
    "tags": []
   },
   "source": [
    "cada id representa uma redacao. As redacoes foram seccionadas em \"discursos\" e o nosso objetivo inicial eh prever o tipo de cada discurso (na verdade a gente tbm tem que achar uma forma de seccionar o banco de dados de teste, ja que ele nao veio seccionado).\n",
    "\n",
    "Entao no meu modelo:\n",
    "\n",
    "\"discourse_text\" -> X\n",
    "\n",
    "\"discourse_type\" -> y\n",
    "\n",
    "Mas antes eh preciso converter o \"discourse_text\" em imagem, ja que meu objetivo eh usar uma CNN"
   ]
  },
  {
   "cell_type": "code",
   "execution_count": 4,
   "id": "b4f39748",
   "metadata": {
    "execution": {
     "iopub.execute_input": "2022-02-08T19:20:04.333585Z",
     "iopub.status.busy": "2022-02-08T19:20:04.315080Z",
     "iopub.status.idle": "2022-02-08T19:20:05.317802Z",
     "shell.execute_reply": "2022-02-08T19:20:05.317046Z",
     "shell.execute_reply.started": "2022-02-08T18:33:44.024186Z"
    },
    "papermill": {
     "duration": 1.041266,
     "end_time": "2022-02-08T19:20:05.317955",
     "exception": false,
     "start_time": "2022-02-08T19:20:04.276689",
     "status": "completed"
    },
    "tags": []
   },
   "outputs": [
    {
     "data": {
      "text/html": [
       "<div>\n",
       "<style scoped>\n",
       "    .dataframe tbody tr th:only-of-type {\n",
       "        vertical-align: middle;\n",
       "    }\n",
       "\n",
       "    .dataframe tbody tr th {\n",
       "        vertical-align: top;\n",
       "    }\n",
       "\n",
       "    .dataframe thead th {\n",
       "        text-align: right;\n",
       "    }\n",
       "</style>\n",
       "<table border=\"1\" class=\"dataframe\">\n",
       "  <thead>\n",
       "    <tr style=\"text-align: right;\">\n",
       "      <th></th>\n",
       "      <th>id</th>\n",
       "      <th>discourse_id</th>\n",
       "      <th>discourse_start</th>\n",
       "      <th>discourse_end</th>\n",
       "      <th>discourse_text</th>\n",
       "      <th>discourse_type</th>\n",
       "      <th>discourse_type_num</th>\n",
       "      <th>predictionstring</th>\n",
       "      <th>discourse_len</th>\n",
       "      <th>pred_len</th>\n",
       "    </tr>\n",
       "  </thead>\n",
       "  <tbody>\n",
       "    <tr>\n",
       "      <th>0</th>\n",
       "      <td>423A1CA112E2</td>\n",
       "      <td>1622627660524</td>\n",
       "      <td>8</td>\n",
       "      <td>229</td>\n",
       "      <td>Modern humans today are always on their phone....</td>\n",
       "      <td>Lead</td>\n",
       "      <td>Lead 1</td>\n",
       "      <td>1 2 3 4 5 6 7 8 9 10 11 12 13 14 15 16 17 18 1...</td>\n",
       "      <td>44</td>\n",
       "      <td>44</td>\n",
       "    </tr>\n",
       "    <tr>\n",
       "      <th>1</th>\n",
       "      <td>423A1CA112E2</td>\n",
       "      <td>1622627653021</td>\n",
       "      <td>230</td>\n",
       "      <td>312</td>\n",
       "      <td>They are some really bad consequences when stu...</td>\n",
       "      <td>Position</td>\n",
       "      <td>Position 1</td>\n",
       "      <td>45 46 47 48 49 50 51 52 53 54 55 56 57 58 59</td>\n",
       "      <td>15</td>\n",
       "      <td>15</td>\n",
       "    </tr>\n",
       "    <tr>\n",
       "      <th>2</th>\n",
       "      <td>423A1CA112E2</td>\n",
       "      <td>1622627671020</td>\n",
       "      <td>313</td>\n",
       "      <td>401</td>\n",
       "      <td>Some certain areas in the United States ban ph...</td>\n",
       "      <td>Evidence</td>\n",
       "      <td>Evidence 1</td>\n",
       "      <td>60 61 62 63 64 65 66 67 68 69 70 71 72 73 74 75</td>\n",
       "      <td>16</td>\n",
       "      <td>16</td>\n",
       "    </tr>\n",
       "    <tr>\n",
       "      <th>3</th>\n",
       "      <td>423A1CA112E2</td>\n",
       "      <td>1622627696365</td>\n",
       "      <td>402</td>\n",
       "      <td>758</td>\n",
       "      <td>When people have phones, they know about certa...</td>\n",
       "      <td>Evidence</td>\n",
       "      <td>Evidence 2</td>\n",
       "      <td>76 77 78 79 80 81 82 83 84 85 86 87 88 89 90 9...</td>\n",
       "      <td>63</td>\n",
       "      <td>63</td>\n",
       "    </tr>\n",
       "    <tr>\n",
       "      <th>4</th>\n",
       "      <td>423A1CA112E2</td>\n",
       "      <td>1622627759780</td>\n",
       "      <td>759</td>\n",
       "      <td>886</td>\n",
       "      <td>Driving is one of the way how to get around. P...</td>\n",
       "      <td>Claim</td>\n",
       "      <td>Claim 1</td>\n",
       "      <td>139 140 141 142 143 144 145 146 147 148 149 15...</td>\n",
       "      <td>24</td>\n",
       "      <td>24</td>\n",
       "    </tr>\n",
       "  </tbody>\n",
       "</table>\n",
       "</div>"
      ],
      "text/plain": [
       "             id   discourse_id  discourse_start  discourse_end  \\\n",
       "0  423A1CA112E2  1622627660524                8            229   \n",
       "1  423A1CA112E2  1622627653021              230            312   \n",
       "2  423A1CA112E2  1622627671020              313            401   \n",
       "3  423A1CA112E2  1622627696365              402            758   \n",
       "4  423A1CA112E2  1622627759780              759            886   \n",
       "\n",
       "                                      discourse_text discourse_type  \\\n",
       "0  Modern humans today are always on their phone....           Lead   \n",
       "1  They are some really bad consequences when stu...       Position   \n",
       "2  Some certain areas in the United States ban ph...       Evidence   \n",
       "3  When people have phones, they know about certa...       Evidence   \n",
       "4  Driving is one of the way how to get around. P...          Claim   \n",
       "\n",
       "  discourse_type_num                                   predictionstring  \\\n",
       "0             Lead 1  1 2 3 4 5 6 7 8 9 10 11 12 13 14 15 16 17 18 1...   \n",
       "1         Position 1       45 46 47 48 49 50 51 52 53 54 55 56 57 58 59   \n",
       "2         Evidence 1    60 61 62 63 64 65 66 67 68 69 70 71 72 73 74 75   \n",
       "3         Evidence 2  76 77 78 79 80 81 82 83 84 85 86 87 88 89 90 9...   \n",
       "4            Claim 1  139 140 141 142 143 144 145 146 147 148 149 15...   \n",
       "\n",
       "   discourse_len  pred_len  \n",
       "0             44        44  \n",
       "1             15        15  \n",
       "2             16        16  \n",
       "3             63        63  \n",
       "4             24        24  "
      ]
     },
     "execution_count": 4,
     "metadata": {},
     "output_type": "execute_result"
    }
   ],
   "source": [
    "# criar colunas contendo o tamanho de cada discurso\n",
    "df[\"discourse_len\"] = df[\"discourse_text\"].apply(lambda x: len(x.split()))\n",
    "df[\"pred_len\"] = df[\"predictionstring\"].apply(lambda x: len(x.split()))\n",
    "df.head()"
   ]
  },
  {
   "cell_type": "markdown",
   "id": "490adad6",
   "metadata": {
    "papermill": {
     "duration": 0.031081,
     "end_time": "2022-02-08T19:20:05.380892",
     "exception": false,
     "start_time": "2022-02-08T19:20:05.349811",
     "status": "completed"
    },
    "tags": []
   },
   "source": [
    "A coluna \"predictionstring\" contem indices associados a cada palavra, isso vai ser importante na hora de submeter, ja que vamos ter que criar nossa propria predictionstring, mas por enquanto podemos ignorar. Note que em geral discourse_len = pred_en (isso nao eh sempre verdade, acho q algumas linhas esao bugadas)."
   ]
  },
  {
   "cell_type": "code",
   "execution_count": 5,
   "id": "24eab64c",
   "metadata": {
    "execution": {
     "iopub.execute_input": "2022-02-08T19:20:05.455121Z",
     "iopub.status.busy": "2022-02-08T19:20:05.454370Z",
     "iopub.status.idle": "2022-02-08T19:20:05.941262Z",
     "shell.execute_reply": "2022-02-08T19:20:05.940674Z",
     "shell.execute_reply.started": "2022-02-08T18:34:52.932603Z"
    },
    "papermill": {
     "duration": 0.528079,
     "end_time": "2022-02-08T19:20:05.941408",
     "exception": false,
     "start_time": "2022-02-08T19:20:05.413329",
     "status": "completed"
    },
    "tags": []
   },
   "outputs": [
    {
     "data": {
      "text/plain": [
       "Text(0, 0.5, 'Frequencia')"
      ]
     },
     "execution_count": 5,
     "metadata": {},
     "output_type": "execute_result"
    },
    {
     "data": {
      "image/png": "[encoded data removed]",
      "text/plain": [
       "<Figure size 720x576 with 1 Axes>"
      ]
     },
     "metadata": {
      "needs_background": "light"
     },
     "output_type": "display_data"
    }
   ],
   "source": [
    "# plotar histograma\n",
    "fig = plt.figure(figsize=(10,8))\n",
    "\n",
    "ax1 = df.discourse_len.plot(kind='hist', color = \"#120f7a\", bins=100)\n",
    "ax1.set_title('Distribuicao do numero de palavras por discurso')\n",
    "ax1.set_xlabel(\"Numero de palavras\")\n",
    "ax1.set_ylabel(\"Frequencia\")"
   ]
  },
  {
   "cell_type": "markdown",
   "id": "9acc7b0e",
   "metadata": {
    "papermill": {
     "duration": 0.032902,
     "end_time": "2022-02-08T19:20:06.006592",
     "exception": false,
     "start_time": "2022-02-08T19:20:05.973690",
     "status": "completed"
    },
    "tags": []
   },
   "source": [
    "# Limpeza do banco de dados"
   ]
  },
  {
   "cell_type": "code",
   "execution_count": 6,
   "id": "41d7b2df",
   "metadata": {
    "execution": {
     "iopub.execute_input": "2022-02-08T19:20:06.075865Z",
     "iopub.status.busy": "2022-02-08T19:20:06.075038Z",
     "iopub.status.idle": "2022-02-08T19:20:16.145966Z",
     "shell.execute_reply": "2022-02-08T19:20:16.144679Z",
     "shell.execute_reply.started": "2022-02-08T18:43:31.649190Z"
    },
    "papermill": {
     "duration": 10.106413,
     "end_time": "2022-02-08T19:20:16.146183",
     "exception": false,
     "start_time": "2022-02-08T19:20:06.039770",
     "status": "completed"
    },
    "tags": []
   },
   "outputs": [
    {
     "name": "stdout",
     "output_type": "stream",
     "text": [
      "56591\n"
     ]
    }
   ],
   "source": [
    "# Excluir discursos com mais de 200 palavras\n",
    "df.drop(df.loc[df['discourse_len'] >= 200].index, inplace=True)\n",
    "\n",
    "# tokenizacao. Aqui se cria um \"dicionario\" contendo todas as palavras existentes no banco de dados e um numero associado a cada palavra\n",
    "# num_words seta o maximo numero de palavras a ser \"tokenizada\".\n",
    "# Quero converter estas tokens pra binarios de 16 bits entao  num_words = 2**16 = 65,536\n",
    "tokenizer = keras.preprocessing.text.Tokenizer(num_words = 2**16) \n",
    "tokenizer.fit_on_texts(df.discourse_text[:])\n",
    "\n",
    "# checar numero total de palavras no dicionario\n",
    "df_dict =tokenizer.word_index\n",
    "print(len(df_dict))\n"
   ]
  },
  {
   "cell_type": "markdown",
   "id": "9c7fe715",
   "metadata": {
    "papermill": {
     "duration": 0.033312,
     "end_time": "2022-02-08T19:20:16.217319",
     "exception": false,
     "start_time": "2022-02-08T19:20:16.184007",
     "status": "completed"
    },
    "tags": []
   },
   "source": [
    "parece que 16 bits eh o suficiente"
   ]
  },
  {
   "cell_type": "code",
   "execution_count": 7,
   "id": "165c27bd",
   "metadata": {
    "execution": {
     "iopub.execute_input": "2022-02-08T19:20:16.295669Z",
     "iopub.status.busy": "2022-02-08T19:20:16.294588Z",
     "iopub.status.idle": "2022-02-08T19:20:16.300247Z",
     "shell.execute_reply": "2022-02-08T19:20:16.299664Z",
     "shell.execute_reply.started": "2022-02-08T18:45:10.740823Z"
    },
    "papermill": {
     "duration": 0.049148,
     "end_time": "2022-02-08T19:20:16.300396",
     "exception": false,
     "start_time": "2022-02-08T19:20:16.251248",
     "status": "completed"
    },
    "tags": []
   },
   "outputs": [
    {
     "data": {
      "text/plain": [
       "array([ 390,   98,  767,    3,  155,  390,  563,  100,  318,  102,   88,\n",
       "        390,    3,  141,  195,  155,    2,  891,   52,   21,  163,   28,\n",
       "         10,   29,   11,   61,  146, 1854,  100,  453,   43,   11,   28,\n",
       "         11,  163,   14,    2, 5030,   10,   29,  390,    1,  101,   79,\n",
       "         68,  255,  124,  531])"
      ]
     },
     "execution_count": 7,
     "metadata": {},
     "output_type": "execute_result"
    }
   ],
   "source": [
    "#exemplo de paragrafo tokenizado\n",
    "paragraph = tokenizer.texts_to_sequences([df.iloc[5].discourse_text])\n",
    "paragraph = np.asarray(paragraph).flatten()\n",
    "paragraph"
   ]
  },
  {
   "cell_type": "code",
   "execution_count": 8,
   "id": "6647b6c5",
   "metadata": {
    "execution": {
     "iopub.execute_input": "2022-02-08T19:20:16.373161Z",
     "iopub.status.busy": "2022-02-08T19:20:16.371779Z",
     "iopub.status.idle": "2022-02-08T19:20:16.378376Z",
     "shell.execute_reply": "2022-02-08T19:20:16.378871Z",
     "shell.execute_reply.started": "2022-02-08T18:47:58.575639Z"
    },
    "papermill": {
     "duration": 0.044458,
     "end_time": "2022-02-08T19:20:16.379053",
     "exception": false,
     "start_time": "2022-02-08T19:20:16.334595",
     "status": "completed"
    },
    "tags": []
   },
   "outputs": [
    {
     "data": {
      "text/plain": [
       "[\"that's why there's a thing that's called no texting while driving that's a really important thing to remember some people still do it because they think it's stupid no matter what they do they still have to obey it because that's the only way how did he save\"]"
      ]
     },
     "execution_count": 8,
     "metadata": {},
     "output_type": "execute_result"
    }
   ],
   "source": [
    "#convertendo de volta\n",
    "tokenizer.sequences_to_texts([paragraph])"
   ]
  },
  {
   "cell_type": "code",
   "execution_count": 9,
   "id": "8b5c6395",
   "metadata": {
    "execution": {
     "iopub.execute_input": "2022-02-08T19:20:16.455052Z",
     "iopub.status.busy": "2022-02-08T19:20:16.454326Z",
     "iopub.status.idle": "2022-02-08T19:20:16.656324Z",
     "shell.execute_reply": "2022-02-08T19:20:16.655544Z",
     "shell.execute_reply.started": "2022-02-08T18:53:16.368222Z"
    },
    "papermill": {
     "duration": 0.243014,
     "end_time": "2022-02-08T19:20:16.656478",
     "exception": false,
     "start_time": "2022-02-08T19:20:16.413464",
     "status": "completed"
    },
    "tags": []
   },
   "outputs": [
    {
     "data": {
      "text/plain": [
       "<matplotlib.image.AxesImage at 0x7fe835e01610>"
      ]
     },
     "execution_count": 9,
     "metadata": {},
     "output_type": "execute_result"
    },
    {
     "data": {
      "image/png": "[encoded data removed]",
      "text/plain": [
       "<Figure size 432x288 with 1 Axes>"
      ]
     },
     "metadata": {
      "needs_background": "light"
     },
     "output_type": "display_data"
    }
   ],
   "source": [
    "#funcao para converter paragrafo em imagem\n",
    "def paragraph_2_img(paragraph):\n",
    "    # Converte numero para vetor binario de 16 opsicoes (bits). E.g.: \n",
    "    # 4 -> [0,0,1,0,0,0,0,0,0,0,0,0,0,0,0,0]\n",
    "    # 3 -> [1,1,0,0,0,0,0,0,0,0,0,0,0,0,0,0]\n",
    "    # cada vetor sera rearranjado em uma matrix/imagem 4x4 bits/pixels. E.g.:\n",
    "    # 3 -> [[1,1,0,0],\n",
    "    #       [0,0,0,0]\n",
    "    #       [0,0,0,0]\n",
    "    #       [0,0,0,0]]\n",
    "    paragraph = (((paragraph[:,None] & (1 << np.arange(16)))) > 0).astype(int)\n",
    "    img = np.zeros((64, 64)) #cria imagem maior para representar o paragrafo (64x64 pixels/bits).\n",
    "    for iword in range(paragraph.shape[0]):\n",
    "        # cada linha tera 16 palavras no maximo. Cada paragrafo tera 16 linhas no maximo.\n",
    "        # eh preciso indexar 16x16 posicoes\n",
    "        l = iword // 16\n",
    "        c = iword % 16\n",
    "        img[l*4:l*4+4,c*4:c*4+4] = paragraph[iword].reshape((4, 4))\n",
    "    return img\n",
    "\n",
    "#Exemplo\n",
    "img = paragraph_2_img(paragraph)\n",
    "plt.imshow(img)"
   ]
  },
  {
   "cell_type": "markdown",
   "id": "e0c18d29",
   "metadata": {
    "papermill": {
     "duration": 0.035466,
     "end_time": "2022-02-08T19:20:16.729529",
     "exception": false,
     "start_time": "2022-02-08T19:20:16.694063",
     "status": "completed"
    },
    "tags": []
   },
   "source": [
    "# Construir banco de dados de imagens"
   ]
  },
  {
   "cell_type": "code",
   "execution_count": 10,
   "id": "87d16941",
   "metadata": {
    "execution": {
     "iopub.execute_input": "2022-02-08T19:20:16.811473Z",
     "iopub.status.busy": "2022-02-08T19:20:16.806132Z",
     "iopub.status.idle": "2022-02-08T19:21:14.014014Z",
     "shell.execute_reply": "2022-02-08T19:21:14.013366Z",
     "shell.execute_reply.started": "2022-02-08T18:54:06.533593Z"
    },
    "papermill": {
     "duration": 57.247613,
     "end_time": "2022-02-08T19:21:14.014204",
     "exception": false,
     "start_time": "2022-02-08T19:20:16.766591",
     "status": "completed"
    },
    "tags": []
   },
   "outputs": [
    {
     "data": {
      "text/plain": [
       "<matplotlib.image.AxesImage at 0x7fe835da6ad0>"
      ]
     },
     "execution_count": 10,
     "metadata": {},
     "output_type": "execute_result"
    },
    {
     "data": {
      "image/png": "[encoded data removed]",
      "text/plain": [
       "<Figure size 432x288 with 1 Axes>"
      ]
     },
     "metadata": {
      "needs_background": "light"
     },
     "output_type": "display_data"
    }
   ],
   "source": [
    "X = np.zeros((df.shape[0],64, 64))\n",
    "for i in range(df.shape[0]):\n",
    "    paragraph = tokenizer.texts_to_sequences([df.iloc[i].discourse_text])\n",
    "    paragraph = np.asarray(paragraph).flatten()\n",
    "    X[i,:,:] = paragraph_2_img(paragraph)\n",
    "plt.imshow(X[5])"
   ]
  },
  {
   "cell_type": "code",
   "execution_count": 11,
   "id": "9d589481",
   "metadata": {
    "execution": {
     "iopub.execute_input": "2022-02-08T19:21:14.114678Z",
     "iopub.status.busy": "2022-02-08T19:21:14.113941Z",
     "iopub.status.idle": "2022-02-08T19:21:14.118546Z",
     "shell.execute_reply": "2022-02-08T19:21:14.119085Z",
     "shell.execute_reply.started": "2022-02-08T18:57:50.857229Z"
    },
    "papermill": {
     "duration": 0.069124,
     "end_time": "2022-02-08T19:21:14.119290",
     "exception": false,
     "start_time": "2022-02-08T19:21:14.050166",
     "status": "completed"
    },
    "tags": []
   },
   "outputs": [],
   "source": [
    "y = df[\"discourse_type\"].copy()\n",
    "\n",
    "y = y.map({'Claim': 0, \n",
    "            'Evidence': 1,\n",
    "            'Position': 2,\n",
    "            'Concluding Statement': 3,\n",
    "            'Lead': 4,\n",
    "            'Counterclaim': 5,\n",
    "            'Rebuttal': 6,})"
   ]
  },
  {
   "cell_type": "code",
   "execution_count": 12,
   "id": "c0972850",
   "metadata": {
    "execution": {
     "iopub.execute_input": "2022-02-08T19:21:14.204099Z",
     "iopub.status.busy": "2022-02-08T19:21:14.203387Z",
     "iopub.status.idle": "2022-02-08T19:21:15.243742Z",
     "shell.execute_reply": "2022-02-08T19:21:15.243133Z",
     "shell.execute_reply.started": "2022-02-08T19:18:07.635177Z"
    },
    "papermill": {
     "duration": 1.087158,
     "end_time": "2022-02-08T19:21:15.243891",
     "exception": false,
     "start_time": "2022-02-08T19:21:14.156733",
     "status": "completed"
    },
    "tags": []
   },
   "outputs": [],
   "source": [
    "# dividir banco de dados em treino e teste\n",
    "X_train, X_val, y_train, y_val = train_test_split(X, \n",
    "                                                    y, \n",
    "                                                    test_size=0.30,\n",
    "                                                    stratify=y,\n",
    "                                                    shuffle=True, random_state=0)"
   ]
  },
  {
   "cell_type": "code",
   "execution_count": 13,
   "id": "6d56caaa",
   "metadata": {
    "execution": {
     "iopub.execute_input": "2022-02-08T19:21:15.325091Z",
     "iopub.status.busy": "2022-02-08T19:21:15.324388Z",
     "iopub.status.idle": "2022-02-08T19:21:15.329059Z",
     "shell.execute_reply": "2022-02-08T19:21:15.329600Z",
     "shell.execute_reply.started": "2022-02-08T19:18:15.165975Z"
    },
    "papermill": {
     "duration": 0.049338,
     "end_time": "2022-02-08T19:21:15.329804",
     "exception": false,
     "start_time": "2022-02-08T19:21:15.280466",
     "status": "completed"
    },
    "tags": []
   },
   "outputs": [
    {
     "data": {
      "text/plain": [
       "(142811, 142811, 99967, 99967, 42844, 42844)"
      ]
     },
     "execution_count": 13,
     "metadata": {},
     "output_type": "execute_result"
    }
   ],
   "source": [
    "# checar tamanhos\n",
    "X.shape[0], y.shape[0], X_train.shape[0], y_train.shape[0], X_val.shape[0], y_val.shape[0]"
   ]
  },
  {
   "cell_type": "code",
   "execution_count": 14,
   "id": "964eba9d",
   "metadata": {
    "execution": {
     "iopub.execute_input": "2022-02-08T19:21:15.411743Z",
     "iopub.status.busy": "2022-02-08T19:21:15.411054Z",
     "iopub.status.idle": "2022-02-08T19:21:15.904455Z",
     "shell.execute_reply": "2022-02-08T19:21:15.903845Z",
     "shell.execute_reply.started": "2022-02-08T19:18:26.932427Z"
    },
    "papermill": {
     "duration": 0.536831,
     "end_time": "2022-02-08T19:21:15.904615",
     "exception": false,
     "start_time": "2022-02-08T19:21:15.367784",
     "status": "completed"
    },
    "tags": []
   },
   "outputs": [],
   "source": [
    "# one hot encode do target\n",
    "y_val_oh = tf.keras.utils.to_categorical(y_val, num_classes=7, dtype='float32')\n",
    "y_train_oh = tf.keras.utils.to_categorical(y_train, num_classes=7, dtype='float32')"
   ]
  },
  {
   "cell_type": "code",
   "execution_count": 15,
   "id": "58000cd5",
   "metadata": {
    "execution": {
     "iopub.execute_input": "2022-02-08T19:21:15.984145Z",
     "iopub.status.busy": "2022-02-08T19:21:15.983462Z",
     "iopub.status.idle": "2022-02-08T19:21:15.986196Z",
     "shell.execute_reply": "2022-02-08T19:21:15.986852Z",
     "shell.execute_reply.started": "2022-02-08T19:18:36.353647Z"
    },
    "papermill": {
     "duration": 0.045455,
     "end_time": "2022-02-08T19:21:15.987020",
     "exception": false,
     "start_time": "2022-02-08T19:21:15.941565",
     "status": "completed"
    },
    "tags": []
   },
   "outputs": [],
   "source": [
    "# A CNN espera um vetor 4D de entrada com shape [tamanho,64,64,1]. A ultima dimencao seria pros canais RGB, mas minhas imagens sao preto e brancas.\n",
    "# Mas eh mesmo assim eh preciso criar essa dimencao:\n",
    "X_train = X_train[:,:,:,None]\n",
    "X_val = X_val[:,:,:,None]"
   ]
  },
  {
   "cell_type": "markdown",
   "id": "ae71c520",
   "metadata": {
    "papermill": {
     "duration": 0.035718,
     "end_time": "2022-02-08T19:21:16.058867",
     "exception": false,
     "start_time": "2022-02-08T19:21:16.023149",
     "status": "completed"
    },
    "tags": []
   },
   "source": [
    "# Treinamento do modelo"
   ]
  },
  {
   "cell_type": "markdown",
   "id": "24775fef",
   "metadata": {
    "papermill": {
     "duration": 0.036117,
     "end_time": "2022-02-08T19:21:16.131844",
     "exception": false,
     "start_time": "2022-02-08T19:21:16.095727",
     "status": "completed"
    },
    "tags": []
   },
   "source": [
    "Aqui eu vou usar a mesma CNN usada no treinamento, a unica diferenca eh que eu criei um kernel de 4x4 pra ler as palavras (na primeira camada) e os strides tambem de 4x4. Ou seja, o kernel vai pular de palavra em palavra. Tbm tive que tirar o padding e max pool, ja que todo pixel eh importante."
   ]
  },
  {
   "cell_type": "code",
   "execution_count": 16,
   "id": "ae15dcbc",
   "metadata": {
    "execution": {
     "iopub.execute_input": "2022-02-08T19:21:16.207016Z",
     "iopub.status.busy": "2022-02-08T19:21:16.206398Z",
     "iopub.status.idle": "2022-02-08T19:21:16.482709Z",
     "shell.execute_reply": "2022-02-08T19:21:16.481992Z",
     "shell.execute_reply.started": "2022-02-08T19:18:42.795892Z"
    },
    "papermill": {
     "duration": 0.314787,
     "end_time": "2022-02-08T19:21:16.482846",
     "exception": false,
     "start_time": "2022-02-08T19:21:16.168059",
     "status": "completed"
    },
    "tags": []
   },
   "outputs": [
    {
     "name": "stderr",
     "output_type": "stream",
     "text": [
      "\n",
      "User settings:\n",
      "\n",
      "   KMP_AFFINITY=granularity=fine,noverbose,compact,1,0\n",
      "   KMP_BLOCKTIME=0\n",
      "   KMP_DUPLICATE_LIB_OK=True\n",
      "   KMP_INIT_AT_FORK=FALSE\n",
      "   KMP_SETTINGS=1\n",
      "   KMP_WARNINGS=0\n",
      "\n",
      "Effective settings:\n",
      "\n",
      "   KMP_ABORT_DELAY=0\n",
      "   KMP_ADAPTIVE_LOCK_PROPS='1,1024'\n",
      "   KMP_ALIGN_ALLOC=64\n",
      "   KMP_ALL_THREADPRIVATE=128\n",
      "   KMP_ATOMIC_MODE=2\n",
      "   KMP_BLOCKTIME=0\n",
      "   KMP_CPUINFO_FILE: value is not defined\n",
      "   KMP_DETERMINISTIC_REDUCTION=false\n",
      "   KMP_DEVICE_THREAD_LIMIT=2147483647\n",
      "   KMP_DISP_NUM_BUFFERS=7\n",
      "   KMP_DUPLICATE_LIB_OK=true\n",
      "   KMP_ENABLE_TASK_THROTTLING=true\n",
      "   KMP_FORCE_REDUCTION: value is not defined\n",
      "   KMP_FOREIGN_THREADS_THREADPRIVATE=true\n",
      "   KMP_FORKJOIN_BARRIER='2,2'\n",
      "   KMP_FORKJOIN_BARRIER_PATTERN='hyper,hyper'\n",
      "   KMP_GTID_MODE=3\n",
      "   KMP_HANDLE_SIGNALS=false\n",
      "   KMP_HOT_TEAMS_MAX_LEVEL=1\n",
      "   KMP_HOT_TEAMS_MODE=0\n",
      "   KMP_INIT_AT_FORK=true\n",
      "   KMP_LIBRARY=throughput\n",
      "   KMP_LOCK_KIND=queuing\n",
      "   KMP_MALLOC_POOL_INCR=1M\n",
      "   KMP_NUM_LOCKS_IN_BLOCK=1\n",
      "   KMP_PLAIN_BARRIER='2,2'\n",
      "   KMP_PLAIN_BARRIER_PATTERN='hyper,hyper'\n",
      "   KMP_REDUCTION_BARRIER='1,1'\n",
      "   KMP_REDUCTION_BARRIER_PATTERN='hyper,hyper'\n",
      "   KMP_SCHEDULE='static,balanced;guided,iterative'\n",
      "   KMP_SETTINGS=true\n",
      "   KMP_SPIN_BACKOFF_PARAMS='4096,100'\n",
      "   KMP_STACKOFFSET=64\n",
      "   KMP_STACKPAD=0\n",
      "   KMP_STACKSIZE=8M\n",
      "   KMP_STORAGE_MAP=false\n",
      "   KMP_TASKING=2\n",
      "   KMP_TASKLOOP_MIN_TASKS=0\n",
      "   KMP_TASK_STEALING_CONSTRAINT=1\n",
      "   KMP_TEAMS_THREAD_LIMIT=4\n",
      "   KMP_TOPOLOGY_METHOD=all\n",
      "   KMP_USE_YIELD=1\n",
      "   KMP_VERSION=false\n",
      "   KMP_WARNINGS=false\n",
      "   OMP_AFFINITY_FORMAT='OMP: pid %P tid %i thread %n bound to OS proc set {%A}'\n",
      "   OMP_ALLOCATOR=omp_default_mem_alloc\n",
      "   OMP_CANCELLATION=false\n",
      "   OMP_DEFAULT_DEVICE=0\n",
      "   OMP_DISPLAY_AFFINITY=false\n",
      "   OMP_DISPLAY_ENV=false\n",
      "   OMP_DYNAMIC=false\n",
      "   OMP_MAX_ACTIVE_LEVELS=1\n",
      "   OMP_MAX_TASK_PRIORITY=0\n",
      "   OMP_NESTED: deprecated; max-active-levels-var=1\n",
      "   OMP_NUM_THREADS: value is not defined\n",
      "   OMP_PLACES: value is not defined\n",
      "   OMP_PROC_BIND='intel'\n",
      "   OMP_SCHEDULE='static'\n",
      "   OMP_STACKSIZE=8M\n",
      "   OMP_TARGET_OFFLOAD=DEFAULT\n",
      "   OMP_THREAD_LIMIT=2147483647\n",
      "   OMP_WAIT_POLICY=PASSIVE\n",
      "   KMP_AFFINITY='noverbose,warnings,respect,granularity=fine,compact,1,0'\n",
      "\n",
      "2022-02-08 19:21:16.280750: I tensorflow/core/common_runtime/process_util.cc:146] Creating new thread pool with default inter op setting: 2. Tune using inter_op_parallelism_threads for best performance.\n"
     ]
    }
   ],
   "source": [
    "from tensorflow.keras import layers\n",
    "\n",
    "model = tf.keras.Sequential([\n",
    "\n",
    "    # First Convolutional Block\n",
    "    layers.Conv2D(filters=32, kernel_size=4, strides=4, activation=\"relu\", padding='valid',\n",
    "                  # [height, width, color channels(RGB)]\n",
    "                  input_shape=[64, 64, 1]),\n",
    "    #layers.MaxPool2D(),\n",
    "    layers.Dropout(0.3),\n",
    "    layers.BatchNormalization(),\n",
    "\n",
    "    # Second Convolutional Block\n",
    "    layers.Conv2D(filters=64, kernel_size=3, activation=\"relu\", padding='same'),\n",
    "    #layers.MaxPool2D(),\n",
    "    layers.Dropout(0.3),\n",
    "    layers.BatchNormalization(),\n",
    "\n",
    "    # Third Convolutional Block\n",
    "    layers.Conv2D(filters=128, kernel_size=3, activation=\"relu\", padding='same'),\n",
    "    #layers.MaxPool2D(),\n",
    "    layers.Dropout(0.3),\n",
    "    layers.BatchNormalization(),\n",
    "\n",
    "    # Classifier Head\n",
    "    layers.Flatten(),\n",
    "    layers.Dense(units=128, activation=\"relu\"),\n",
    "    layers.Dense(units=7, activation=\"sigmoid\"),\n",
    "])\n",
    "\n",
    "model.compile(\n",
    "    optimizer='adam',\n",
    "    loss='binary_crossentropy',\n",
    "    metrics=['accuracy'],\n",
    ")"
   ]
  },
  {
   "cell_type": "code",
   "execution_count": 17,
   "id": "7c2b4d1a",
   "metadata": {
    "execution": {
     "iopub.execute_input": "2022-02-08T19:21:16.562910Z",
     "iopub.status.busy": "2022-02-08T19:21:16.562244Z",
     "iopub.status.idle": "2022-02-08T19:21:16.565602Z",
     "shell.execute_reply": "2022-02-08T19:21:16.566174Z",
     "shell.execute_reply.started": "2022-02-08T19:18:47.663984Z"
    },
    "papermill": {
     "duration": 0.046634,
     "end_time": "2022-02-08T19:21:16.566351",
     "exception": false,
     "start_time": "2022-02-08T19:21:16.519717",
     "status": "completed"
    },
    "tags": []
   },
   "outputs": [],
   "source": [
    "from tensorflow.keras.callbacks import EarlyStopping\n",
    "\n",
    "early_stopping = EarlyStopping(\n",
    "    min_delta=0, # minimium amount of change to count as an improvement\n",
    "    patience=10, # how many epochs to wait before stopping\n",
    "    restore_best_weights=True,\n",
    ")"
   ]
  },
  {
   "cell_type": "code",
   "execution_count": 18,
   "id": "be975910",
   "metadata": {
    "execution": {
     "iopub.execute_input": "2022-02-08T19:21:16.644092Z",
     "iopub.status.busy": "2022-02-08T19:21:16.643485Z",
     "iopub.status.idle": "2022-02-08T20:46:04.574794Z",
     "shell.execute_reply": "2022-02-08T20:46:04.573088Z",
     "shell.execute_reply.started": "2022-02-07T21:24:52.276022Z"
    },
    "papermill": {
     "duration": 5087.97154,
     "end_time": "2022-02-08T20:46:04.574984",
     "exception": false,
     "start_time": "2022-02-08T19:21:16.603444",
     "status": "completed"
    },
    "tags": []
   },
   "outputs": [
    {
     "name": "stderr",
     "output_type": "stream",
     "text": [
      "2022-02-08 19:21:17.896199: I tensorflow/compiler/mlir/mlir_graph_optimization_pass.cc:185] None of the MLIR Optimization Passes are enabled (registered 2)\n"
     ]
    },
    {
     "name": "stdout",
     "output_type": "stream",
     "text": [
      "Epoch 1/50\n",
      "391/391 [==============================] - 201s 510ms/step - loss: 0.2957 - accuracy: 0.5779 - val_loss: 1.7616 - val_accuracy: 0.2176\n",
      "Epoch 2/50\n",
      "391/391 [==============================] - 199s 509ms/step - loss: 0.2617 - accuracy: 0.6106 - val_loss: 0.2652 - val_accuracy: 0.6112\n",
      "Epoch 3/50\n",
      "391/391 [==============================] - 200s 513ms/step - loss: 0.2501 - accuracy: 0.6294 - val_loss: 0.2593 - val_accuracy: 0.6031\n",
      "Epoch 4/50\n",
      "391/391 [==============================] - 200s 510ms/step - loss: 0.2427 - accuracy: 0.6406 - val_loss: 0.2482 - val_accuracy: 0.6314\n",
      "Epoch 5/50\n",
      "391/391 [==============================] - 201s 515ms/step - loss: 0.2375 - accuracy: 0.6492 - val_loss: 0.2330 - val_accuracy: 0.6597\n",
      "Epoch 6/50\n",
      "391/391 [==============================] - 200s 512ms/step - loss: 0.2336 - accuracy: 0.6532 - val_loss: 0.2363 - val_accuracy: 0.6601\n",
      "Epoch 7/50\n",
      "391/391 [==============================] - 202s 516ms/step - loss: 0.2301 - accuracy: 0.6599 - val_loss: 0.2321 - val_accuracy: 0.6623\n",
      "Epoch 8/50\n",
      "391/391 [==============================] - 203s 520ms/step - loss: 0.2268 - accuracy: 0.6649 - val_loss: 0.2302 - val_accuracy: 0.6654\n",
      "Epoch 9/50\n",
      "391/391 [==============================] - 203s 519ms/step - loss: 0.2245 - accuracy: 0.6692 - val_loss: 0.2363 - val_accuracy: 0.6552\n",
      "Epoch 10/50\n",
      "391/391 [==============================] - 203s 519ms/step - loss: 0.2218 - accuracy: 0.6735 - val_loss: 0.2196 - val_accuracy: 0.6790\n",
      "Epoch 11/50\n",
      "391/391 [==============================] - 205s 525ms/step - loss: 0.2201 - accuracy: 0.6764 - val_loss: 0.2242 - val_accuracy: 0.6754\n",
      "Epoch 12/50\n",
      "391/391 [==============================] - 203s 520ms/step - loss: 0.2188 - accuracy: 0.6777 - val_loss: 0.2198 - val_accuracy: 0.6816\n",
      "Epoch 13/50\n",
      "391/391 [==============================] - 203s 520ms/step - loss: 0.2170 - accuracy: 0.6809 - val_loss: 0.2197 - val_accuracy: 0.6846\n",
      "Epoch 14/50\n",
      "391/391 [==============================] - 205s 525ms/step - loss: 0.2160 - accuracy: 0.6812 - val_loss: 0.2176 - val_accuracy: 0.6865\n",
      "Epoch 15/50\n",
      "391/391 [==============================] - 203s 519ms/step - loss: 0.2142 - accuracy: 0.6859 - val_loss: 0.2148 - val_accuracy: 0.6901\n",
      "Epoch 16/50\n",
      "391/391 [==============================] - 208s 531ms/step - loss: 0.2133 - accuracy: 0.6869 - val_loss: 0.2174 - val_accuracy: 0.6836\n",
      "Epoch 17/50\n",
      "391/391 [==============================] - 208s 533ms/step - loss: 0.2120 - accuracy: 0.6888 - val_loss: 0.2162 - val_accuracy: 0.6899\n",
      "Epoch 18/50\n",
      "391/391 [==============================] - 204s 523ms/step - loss: 0.2109 - accuracy: 0.6909 - val_loss: 0.2225 - val_accuracy: 0.6768\n",
      "Epoch 19/50\n",
      "391/391 [==============================] - 206s 526ms/step - loss: 0.2099 - accuracy: 0.6903 - val_loss: 0.2162 - val_accuracy: 0.6934\n",
      "Epoch 20/50\n",
      "391/391 [==============================] - 204s 523ms/step - loss: 0.2085 - accuracy: 0.6935 - val_loss: 0.2161 - val_accuracy: 0.6873\n",
      "Epoch 21/50\n",
      "391/391 [==============================] - 204s 522ms/step - loss: 0.2077 - accuracy: 0.6952 - val_loss: 0.2156 - val_accuracy: 0.6906\n",
      "Epoch 22/50\n",
      "391/391 [==============================] - 209s 534ms/step - loss: 0.2070 - accuracy: 0.6974 - val_loss: 0.2157 - val_accuracy: 0.6932\n",
      "Epoch 23/50\n",
      "391/391 [==============================] - 203s 519ms/step - loss: 0.2067 - accuracy: 0.6955 - val_loss: 0.2154 - val_accuracy: 0.6899\n",
      "Epoch 24/50\n",
      "391/391 [==============================] - 202s 516ms/step - loss: 0.2058 - accuracy: 0.6978 - val_loss: 0.2154 - val_accuracy: 0.6928\n",
      "Epoch 25/50\n",
      "391/391 [==============================] - 205s 524ms/step - loss: 0.2046 - accuracy: 0.6995 - val_loss: 0.2151 - val_accuracy: 0.6932\n"
     ]
    }
   ],
   "source": [
    "history = model.fit(\n",
    "    X_train, y_train_oh,\n",
    "    validation_data=(X_val, y_val_oh),\n",
    "    batch_size=256,\n",
    "    epochs=50,\n",
    "    callbacks=[early_stopping],\n",
    ")"
   ]
  },
  {
   "cell_type": "code",
   "execution_count": 19,
   "id": "953cb9b3",
   "metadata": {
    "execution": {
     "iopub.execute_input": "2022-02-08T20:46:12.659985Z",
     "iopub.status.busy": "2022-02-08T20:46:12.650036Z",
     "iopub.status.idle": "2022-02-08T20:46:41.466686Z",
     "shell.execute_reply": "2022-02-08T20:46:41.466167Z",
     "shell.execute_reply.started": "2022-02-07T23:50:36.38336Z"
    },
    "papermill": {
     "duration": 32.810045,
     "end_time": "2022-02-08T20:46:41.466831",
     "exception": false,
     "start_time": "2022-02-08T20:46:08.656786",
     "status": "completed"
    },
    "tags": []
   },
   "outputs": [
    {
     "data": {
      "image/png": "[encoded data removed]",
      "text/plain": [
       "<Figure size 1728x432 with 2 Axes>"
      ]
     },
     "metadata": {
      "needs_background": "light"
     },
     "output_type": "display_data"
    }
   ],
   "source": [
    "history_frame = pd.DataFrame(history.history)\n",
    "\n",
    "\n",
    "plt.figure(figsize=(24, 6))\n",
    "plt.subplot(1, 2, 1)\n",
    "plt.plot(history_frame.index,history_frame.accuracy,'r-',label='accuracy')\n",
    "plt.plot(history_frame.index,history_frame.val_accuracy,'r--',label='val accuracy')\n",
    "plt.legend(loc='lower right')\n",
    "\n",
    "plt.subplot(1, 2, 2)\n",
    "plt.plot(history_frame.index,history_frame.loss,'r-',label='loss')\n",
    "plt.plot(history_frame.index,history_frame.val_loss,'r--',label='val_loss')\n",
    "plt.legend(loc='upper right')\n",
    "\n",
    "plt.show()"
   ]
  },
  {
   "cell_type": "code",
   "execution_count": 20,
   "id": "5bc3cfc9",
   "metadata": {
    "execution": {
     "iopub.execute_input": "2022-02-08T20:46:49.388717Z",
     "iopub.status.busy": "2022-02-08T20:46:49.378770Z",
     "iopub.status.idle": "2022-02-08T20:46:49.542939Z",
     "shell.execute_reply": "2022-02-08T20:46:49.542220Z",
     "shell.execute_reply.started": "2022-02-07T23:53:08.72844Z"
    },
    "papermill": {
     "duration": 4.12983,
     "end_time": "2022-02-08T20:46:49.543085",
     "exception": false,
     "start_time": "2022-02-08T20:46:45.413255",
     "status": "completed"
    },
    "tags": []
   },
   "outputs": [],
   "source": [
    "model.save(\"baseline.h5\")"
   ]
  },
  {
   "cell_type": "code",
   "execution_count": 21,
   "id": "03430cd4",
   "metadata": {
    "execution": {
     "iopub.execute_input": "2022-02-08T20:46:57.378580Z",
     "iopub.status.busy": "2022-02-08T20:46:57.377794Z",
     "iopub.status.idle": "2022-02-08T20:46:57.998799Z",
     "shell.execute_reply": "2022-02-08T20:46:57.998074Z",
     "shell.execute_reply.started": "2022-02-08T01:01:00.734856Z"
    },
    "papermill": {
     "duration": 4.552896,
     "end_time": "2022-02-08T20:46:57.998941",
     "exception": false,
     "start_time": "2022-02-08T20:46:53.446045",
     "status": "completed"
    },
    "tags": []
   },
   "outputs": [],
   "source": [
    "model = keras.models.load_model(\"./baseline.h5\")"
   ]
  },
  {
   "cell_type": "markdown",
   "id": "ce99e6a0",
   "metadata": {
    "papermill": {
     "duration": 3.897539,
     "end_time": "2022-02-08T20:47:05.913467",
     "exception": false,
     "start_time": "2022-02-08T20:47:02.015928",
     "status": "completed"
    },
    "tags": []
   },
   "source": [
    "# Submissao"
   ]
  },
  {
   "cell_type": "markdown",
   "id": "6c250675",
   "metadata": {
    "papermill": {
     "duration": 3.856677,
     "end_time": "2022-02-08T20:47:13.643408",
     "exception": false,
     "start_time": "2022-02-08T20:47:09.786731",
     "status": "completed"
    },
    "tags": []
   },
   "source": [
    "Ate aqui foi meio caminho andado. Agora resta achar uma forma de seccionar as redacoes do banco de dados de teste. Estou pensando em treinar outra CNN pra isso.. mas se alguem tiver uma sugestao favor postar la no grupo!"
   ]
  }
 ],
 "metadata": {
  "kernelspec": {
   "display_name": "Python 3",
   "language": "python",
   "name": "python3"
  },
  "language_info": {
   "codemirror_mode": {
    "name": "ipython",
    "version": 3
   },
   "file_extension": ".py",
   "mimetype": "text/x-python",
   "name": "python",
   "nbconvert_exporter": "python",
   "pygments_lexer": "ipython3",
   "version": "3.7.12"
  },
  "papermill": {
   "default_parameters": {},
   "duration": 5260.412687,
   "end_time": "2022-02-08T20:47:20.662678",
   "environment_variables": {},
   "exception": null,
   "input_path": "__notebook__.ipynb",
   "output_path": "__notebook__.ipynb",
   "parameters": {},
   "start_time": "2022-02-08T19:19:40.249991",
   "version": "2.3.3"
  }
 },
 "nbformat": 4,
 "nbformat_minor": 5
}
